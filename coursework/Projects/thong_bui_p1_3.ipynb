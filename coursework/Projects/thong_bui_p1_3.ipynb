{
 "cells": [
  {
   "cell_type": "markdown",
   "metadata": {},
   "source": [
    "# Project 1: Digit Classification with KNN and Naive Bayes"
   ]
  },
  {
   "cell_type": "markdown",
   "metadata": {},
   "source": [
    "In this project, you'll implement your own image recognition system for classifying digits. Read through the code and the instructions carefully and add your own code where indicated. Each problem can be addressed succinctly with the included packages -- please don't add any more. Grading will be based on writing clean, commented code, along with a few short answers.\n",
    "\n",
    "As always, you're welcome to work on the project in groups and discuss ideas on the course wall, but <b> please prepare your own write-up (with your own code). </b>\n",
    "\n",
    "If you're interested, check out these links related to digit recognition:\n",
    "\n",
    "Yann Lecun's MNIST benchmarks: http://yann.lecun.com/exdb/mnist/\n",
    "\n",
    "Stanford Streetview research and data: http://ufldl.stanford.edu/housenumbers/"
   ]
  },
  {
   "cell_type": "code",
   "execution_count": 1,
   "metadata": {
    "collapsed": false
   },
   "outputs": [
    {
     "name": "stderr",
     "output_type": "stream",
     "text": [
      "/Users/thongbui/anaconda3/envs/py27/lib/python2.7/site-packages/sklearn/cross_validation.py:44: DeprecationWarning: This module was deprecated in version 0.18 in favor of the model_selection module into which all the refactored classes and functions are moved. Also note that the interface of the new CV iterators are different from that of this module. This module will be removed in 0.20.\n",
      "  \"This module will be removed in 0.20.\", DeprecationWarning)\n",
      "/Users/thongbui/anaconda3/envs/py27/lib/python2.7/site-packages/sklearn/grid_search.py:43: DeprecationWarning: This module was deprecated in version 0.18 in favor of the model_selection module into which all the refactored classes and functions are moved. This module will be removed in 0.20.\n",
      "  DeprecationWarning)\n"
     ]
    }
   ],
   "source": [
    "# This tells matplotlib not to try opening a new window for each plot.\n",
    "%matplotlib inline\n",
    "\n",
    "# Import a bunch of libraries.\n",
    "import time\n",
    "import numpy as np\n",
    "import matplotlib.pyplot as plt\n",
    "from matplotlib.ticker import MultipleLocator\n",
    "from sklearn.pipeline import Pipeline\n",
    "from sklearn.datasets import fetch_mldata\n",
    "from sklearn.neighbors import KNeighborsClassifier\n",
    "from sklearn.metrics import confusion_matrix\n",
    "from sklearn.linear_model import LinearRegression\n",
    "from sklearn.naive_bayes import BernoulliNB\n",
    "from sklearn.naive_bayes import MultinomialNB\n",
    "from sklearn.naive_bayes import GaussianNB\n",
    "from sklearn.grid_search import GridSearchCV\n",
    "from sklearn.metrics import classification_report\n",
    "\n",
    "# Set the randomizer seed so results are the same each time.\n",
    "np.random.seed(0)"
   ]
  },
  {
   "cell_type": "markdown",
   "metadata": {},
   "source": [
    "Load the data. Notice that we are splitting the data into training, development, and test. We also have a small subset of the training data called mini_train_data and mini_train_labels that you should use in all the experiments below, unless otherwise noted."
   ]
  },
  {
   "cell_type": "code",
   "execution_count": 3,
   "metadata": {
    "collapsed": false,
    "scrolled": true
   },
   "outputs": [
    {
     "name": "stdout",
     "output_type": "stream",
     "text": [
      "('data shape: ', (70000, 784))\n",
      "('label shape:', (70000,))\n"
     ]
    }
   ],
   "source": [
    "# Load the digit data either from mldata.org, or once downloaded to data_home, from disk. The data is about 53MB so this cell\n",
    "# should take a while the first time your run it.\n",
    "mnist = fetch_mldata('MNIST original', data_home='~/datasets/mnist')\n",
    "X, Y = mnist.data, mnist.target\n",
    "\n",
    "# Rescale grayscale values to [0,1].\n",
    "X = X / 255.0\n",
    "\n",
    "# Shuffle the input: create a random permutation of the integers between 0 and the number of data points and apply this\n",
    "# permutation to X and Y.\n",
    "# NOTE: Each time you run this cell, you'll re-shuffle the data, resulting in a different ordering.\n",
    "shuffle = np.random.permutation(np.arange(X.shape[0]))\n",
    "X, Y = X[shuffle], Y[shuffle]\n",
    "\n",
    "print('data shape: ', X.shape)\n",
    "print('label shape:', Y.shape)\n",
    "\n",
    "# Set some variables to hold test, dev, and training data.\n",
    "test_data, test_labels = X[61000:], Y[61000:]\n",
    "dev_data, dev_labels = X[60000:61000], Y[60000:61000]\n",
    "train_data, train_labels = X[:60000], Y[:60000]\n",
    "mini_train_data, mini_train_labels = X[:1000], Y[:1000]"
   ]
  },
  {
   "cell_type": "markdown",
   "metadata": {},
   "source": [
    "(1) Create a 10x10 grid to visualize 10 examples of each digit. Python hints:\n",
    "\n",
    "- plt.rc() for setting the colormap, for example to black and white\n",
    "- plt.subplot() for creating subplots\n",
    "- plt.imshow() for rendering a matrix\n",
    "- np.array.reshape() for reshaping a 1D feature vector into a 2D matrix (for rendering)"
   ]
  },
  {
   "cell_type": "code",
   "execution_count": 4,
   "metadata": {
    "collapsed": false
   },
   "outputs": [
    {
     "data": {
      "image/png": "[encoded data removed]",
      "text/plain": [
       "<matplotlib.figure.Figure at 0x10a798690>"
      ]
     },
     "metadata": {},
     "output_type": "display_data"
    }
   ],
   "source": [
    "def P1(num_examples=10):\n",
    "    # Here, I am using mini_train_data, mini_train_labels to build this grid\n",
    "    data = mini_train_data\n",
    "    labels = mini_train_labels\n",
    "    \n",
    "    plt.close('all')\n",
    "\n",
    "    # Set up subplots for this 10x10 grid \n",
    "    f, axarr = plt.subplots(num_examples,num_examples)\n",
    "\n",
    "    # for each digit (0->9), we will find 10 images and display them in 10 rows\n",
    "    for i in range(num_examples):\n",
    "        count = 0\n",
    "        # Find this digit in mini_train_labels 10 times\n",
    "        for j in range(len(labels)):\n",
    "            # Get the 1st 10 elements of this digit\n",
    "            if (count >= num_examples):\n",
    "                break  # done with this digit, move on to the next digit\n",
    "            # When the same digit is found, create the corresponding image and put it\n",
    "            # in the current spot in the 10x10 grid\n",
    "            if (labels[j] == i):\n",
    "                # 1-D 784 list can be convert to 2-D 28x28 matrix\n",
    "                digit = np.reshape(data[j],(28,28))\n",
    "                axarr[i,count].axis('off')\n",
    "                axarr[i,count].imshow(digit, cmap='gray', interpolation='nearest')\n",
    "                count = count + 1\n",
    "\n",
    "    plt.show()\n",
    "    \n",
    "P1(10)"
   ]
  },
  {
   "cell_type": "markdown",
   "metadata": {},
   "source": [
    "(2) Evaluate a K-Nearest-Neighbors model with k = [1,3,5,7,9] using the mini training set. Report accuracy on the dev set. For k=1, show precision, recall, and F1 for each label. Which is the most difficult digit?\n",
    "\n",
    "- KNeighborsClassifier() for fitting and predicting\n",
    "- classification_report() for producing precision, recall, F1 results"
   ]
  },
  {
   "cell_type": "code",
   "execution_count": 5,
   "metadata": {
    "collapsed": false
   },
   "outputs": [
    {
     "name": "stdout",
     "output_type": "stream",
     "text": [
      "For k = 1, number of correct predictions: 0.00\n",
      "             precision    recall  f1-score   support\n",
      "\n",
      "        0.0       0.91      0.98      0.94        99\n",
      "        1.0       0.89      1.00      0.94       105\n",
      "        2.0       0.99      0.79      0.88       102\n",
      "        3.0       0.77      0.87      0.82        86\n",
      "        4.0       0.89      0.82      0.85       104\n",
      "        5.0       0.93      0.84      0.88        91\n",
      "        6.0       0.94      0.96      0.95        98\n",
      "        7.0       0.89      0.92      0.90       113\n",
      "        8.0       0.94      0.88      0.91        96\n",
      "        9.0       0.78      0.82      0.80       106\n",
      "\n",
      "avg / total       0.89      0.89      0.89      1000\n",
      "\n",
      "For k = 3, number of correct predictions: 0.00\n",
      "For k = 5, number of correct predictions: 0.00\n",
      "For k = 7, number of correct predictions: 0.00\n",
      "For k = 9, number of correct predictions: 0.00\n"
     ]
    }
   ],
   "source": [
    "data = mini_train_data\n",
    "labels = mini_train_labels\n",
    "\n",
    "def P2(k_values):\n",
    "### STUDENT START ###\n",
    "    for k in k_values:\n",
    "        model = KNeighborsClassifier(k)\n",
    "        model.fit(data, labels)\n",
    "        predicted_labels = model.predict(dev_data)\n",
    "        correct = (predicted_labels == dev_labels)\n",
    "        print('For k = %d, number of correct predictions: %3.2f' %(k, (sum(correct)/dev_labels.size)))\n",
    "        if (k == 1):\n",
    "            print(classification_report(dev_labels, predicted_labels))\n",
    "            \n",
    "### STUDENT END ###\n",
    "\n",
    "k_values = [1, 3, 5, 7, 9]\n",
    "\n",
    "P2(k_values)"
   ]
  },
  {
   "cell_type": "markdown",
   "metadata": {},
   "source": [
    "ANSWER: The most difficult digit is 3 (precision = 77%)"
   ]
  },
  {
   "cell_type": "markdown",
   "metadata": {},
   "source": [
    "(3) Using k=1, report dev set accuracy for the training set sizes below. Also, measure the amount of time needed for prediction with each training size.\n",
    "\n",
    "- time.time() gives a wall clock value you can use for timing operations"
   ]
  },
  {
   "cell_type": "code",
   "execution_count": 5,
   "metadata": {
    "collapsed": false,
    "scrolled": true
   },
   "outputs": [
    {
     "name": "stdout",
     "output_type": "stream",
     "text": [
      "Train size = 100, percentage of correct predictions: 0.00, elapsed time: 0 msec\n",
      "Train size = 200, percentage of correct predictions: 0.00, elapsed time: 0 msec\n",
      "Train size = 400, percentage of correct predictions: 0.00, elapsed time: 0 msec\n",
      "Train size = 800, percentage of correct predictions: 0.00, elapsed time: 1 msec\n",
      "Train size = 1600, percentage of correct predictions: 0.00, elapsed time: 2 msec\n",
      "Train size = 3200, percentage of correct predictions: 0.00, elapsed time: 4 msec\n",
      "Train size = 6400, percentage of correct predictions: 0.00, elapsed time: 8 msec\n",
      "Train size = 12800, percentage of correct predictions: 0.00, elapsed time: 18 msec\n",
      "Train size = 25000, percentage of correct predictions: 0.00, elapsed time: 38 msec\n",
      "[0, 0, 0, 0, 0, 0, 0, 0, 0]\n"
     ]
    }
   ],
   "source": [
    "def P3(train_sizes, accuracies):\n",
    "### STUDENT START ###\n",
    "\n",
    "    for i in train_sizes:\n",
    "        start = time.time()\n",
    "        data, labels = X[:i], Y[:i]\n",
    "\n",
    "        model = KNeighborsClassifier(1)\n",
    "        model.fit(data, labels)\n",
    "        predicted_labels = model.predict(dev_data)\n",
    "        correct = (predicted_labels == dev_labels)\n",
    "        accuracy = (sum(correct)/dev_labels.size) * 100\n",
    "        accuracies.append(accuracy)\n",
    "        print(\"Train size = %d, percentage of correct predictions: %3.2f, elapsed time: %d msec\" % (i, accuracy, (time.time() - start)))\n",
    "\n",
    "\n",
    "### STUDENT END ###\n",
    "\n",
    "train_sizes = [100, 200, 400, 800, 1600, 3200, 6400, 12800, 25000]\n",
    "accuracies = []\n",
    "P3(train_sizes, accuracies)\n",
    "print(accuracies)"
   ]
  },
  {
   "cell_type": "markdown",
   "metadata": {},
   "source": [
    "(4) Fit a regression model that predicts accuracy from training size. What does it predict for n=60000? What's wrong with using regression here? Can you apply a transformation that makes the predictions more reasonable?\n",
    "\n",
    "- Remember that the sklearn fit() functions take an input matrix X and output vector Y. So each input example in X is a vector, even if it contains only a single value."
   ]
  },
  {
   "cell_type": "code",
   "execution_count": 7,
   "metadata": {
    "collapsed": false
   },
   "outputs": [
    {
     "name": "stdout",
     "output_type": "stream",
     "text": [
      "predict with linear regression [[ 124.30722604]]\n",
      "predict with linear regression after using transformation  [[ 99.49773388]]\n"
     ]
    },
    {
     "data": {
      "image/png": "[encoded data removed]",
      "text/plain": [
       "<matplotlib.figure.Figure at 0x10a7ca1d0>"
      ]
     },
     "metadata": {},
     "output_type": "display_data"
    }
   ],
   "source": [
    "def P4():\n",
    "\n",
    "\n",
    "### STUDENT START ###\n",
    "\n",
    "    lr = LinearRegression(fit_intercept=True)\n",
    "    X = np.reshape(train_sizes, (len(train_sizes),1))\n",
    "    Y = np.reshape(accuracies, (len(accuracies),1))\n",
    "\n",
    "    lr.fit(X,Y)\n",
    "    predict1 = lr.predict(X)\n",
    "    print(\"predict with linear regression\", lr.predict([[60000]]))\n",
    "\n",
    "\n",
    "    # Now let's try transformation using log(log(log(X)))\n",
    "    def transform(V):\n",
    "        #return (np.log(np.sqrt(V)))\n",
    "        #return (100/ (1 + 100 * np.exp(-1 * np.log(V))))\n",
    "        return np.log10(np.log10(np.log10(V)))\n",
    "\n",
    "    lr = LinearRegression(fit_intercept=True)\n",
    "    lr.fit(transform(X),Y)\n",
    "    predict2 = lr.predict(transform(X))\n",
    "    print(\"predict with linear regression after using transformation \", lr.predict(transform([[60000]])))\n",
    "\n",
    "    plt.scatter(X,Y, label=\"Samples\")\n",
    "    plt.plot(X, predict1, label=\"Linear regression\")\n",
    "    plt.plot(X, predict2, label=\"Linear regression w tranformation\")\n",
    "    plt.title(\"Linear Regressions\")\n",
    "    plt.legend(loc=\"best\")\n",
    "    plt.show()\n",
    "    \n",
    "    #from sklearn import linear_model\n",
    "    #clf = linear_model.LogisticRegression()\n",
    "    #Y2 = Y.astype(int)\n",
    "    #clf.fit(X, Y2)\n",
    "    #print(\"predict using LogisticRegression: \", clf.predict([60000]))\n",
    "\n",
    "### STUDENT END ###\n",
    "\n",
    "P4()"
   ]
  },
  {
   "cell_type": "markdown",
   "metadata": {},
   "source": [
    "ANSWER: the predicted value for n=60000 using linear regression is > 100% which is invalid. When I tried to use transformation function log(log(log(X))), the prediction value for n=60000 is 99.5% which is more reasonable"
   ]
  },
  {
   "cell_type": "markdown",
   "metadata": {},
   "source": [
    "Fit a 1-NN and output a confusion matrix for the dev data. Use the confusion matrix to identify the most confused pair of digits, and display a few example mistakes.\n",
    "\n",
    "- confusion_matrix() produces a confusion matrix"
   ]
  },
  {
   "cell_type": "code",
   "execution_count": 8,
   "metadata": {
    "collapsed": false
   },
   "outputs": [
    {
     "name": "stdout",
     "output_type": "stream",
     "text": [
      "[[ 97   0   0   0   0   0   2   0   0   0]\n",
      " [  0 105   0   0   0   0   0   0   0   0]\n",
      " [  4   4  81   4   0   0   0   4   3   2]\n",
      " [  1   0   0  75   0   3   0   3   1   3]\n",
      " [  0   2   0   0  85   0   3   0   0  14]\n",
      " [  2   0   0   9   0  76   0   1   1   2]\n",
      " [  1   1   1   0   1   0  94   0   0   0]\n",
      " [  1   4   0   1   1   0   0 104   0   2]\n",
      " [  0   2   0   5   0   2   1   0  84   2]\n",
      " [  1   0   0   3   9   1   0   5   0  87]]\n",
      "Samples of true digit = 4, predicted digit = 9\n"
     ]
    },
    {
     "data": {
      "image/png": "[encoded data removed]",
      "text/plain": [
       "<matplotlib.figure.Figure at 0x117a30a90>"
      ]
     },
     "metadata": {},
     "output_type": "display_data"
    },
    {
     "name": "stdout",
     "output_type": "stream",
     "text": [
      "Samples of true digit = 9, predicted digit = 4\n"
     ]
    },
    {
     "data": {
      "image/png": "[encoded data removed]",
      "text/plain": [
       "<matplotlib.figure.Figure at 0x119b45dd8>"
      ]
     },
     "metadata": {},
     "output_type": "display_data"
    }
   ],
   "source": [
    "def P5():\n",
    "\n",
    "### STUDENT START ###\n",
    "    data = mini_train_data\n",
    "    labels = mini_train_labels\n",
    "\n",
    "    model = KNeighborsClassifier(1)\n",
    "    model.fit(data, labels)\n",
    "    predicted_labels = model.predict(dev_data)\n",
    "        \n",
    "\n",
    "    print(confusion_matrix(dev_labels, predicted_labels))\n",
    "    \n",
    "    # Now we will try to display some sample mistakes\n",
    "    def displayIncorrect(true_digit, predicted_digit, sample_size):\n",
    "        print(\"Samples of true digit = %d, predicted digit = %d\" %(true_digit, predicted_digit))\n",
    "        #sample_size = 14\n",
    "        f, axarr = plt.subplots(1,sample_size)\n",
    "        #true_digit = 4.0\n",
    "        #predicted_digit = 9.0\n",
    "        count = 0\n",
    "        for i in range(len(dev_labels)):\n",
    "            if (count >= sample_size):\n",
    "                break\n",
    "            if (dev_labels[i] == true_digit and predicted_labels[i] == predicted_digit):\n",
    "                digit = np.reshape(dev_data[i],(28,28))\n",
    "                axarr[count].axis('off')\n",
    "                axarr[count].imshow(digit, cmap='gray', interpolation='nearest')\n",
    "                count += 1\n",
    "\n",
    "        plt.show()\n",
    "        plt.close('all')\n",
    "\n",
    "\n",
    "    displayIncorrect(4,9, 14)\n",
    "    displayIncorrect(9, 4, 9)\n",
    "    #displayIncorrect(2,3, 4)\n",
    "\n",
    "\n",
    "### STUDENT END ###\n",
    "\n",
    "P5()"
   ]
  },
  {
   "cell_type": "markdown",
   "metadata": {},
   "source": [
    "From the confusion matrix above, the most confused pair of digits is (4,9):\n",
    "    - 14 of 4 was predicted as 9\n",
    "    - 9 of 9 was predicted as 4\n"
   ]
  },
  {
   "cell_type": "markdown",
   "metadata": {},
   "source": [
    "(6) A common image processing technique is to smooth an image by blurring. The idea is that the value of a particular pixel is estimated as the weighted combination of the original value and the values around it. Typically, the blurring is Gaussian -- that is, the weight of a pixel's influence is determined by a Gaussian function over the distance to the relevant pixel.\n",
    "\n",
    "Implement a simplified Gaussian blur by just using the 8 neighboring pixels: the smoothed value of a pixel is a weighted combination of the original value and the 8 neighboring values. Try applying your blur filter in 3 ways:\n",
    "- preprocess the training data but not the dev data\n",
    "- preprocess the dev data but not the training data\n",
    "- preprocess both training and dev data\n",
    "\n",
    "Note that there are Guassian blur filters available, for example in scipy.ndimage.filters. You're welcome to experiment with those, but you are likely to get the best results with the simplified version I described above."
   ]
  },
  {
   "cell_type": "code",
   "execution_count": 23,
   "metadata": {
    "collapsed": false
   },
   "outputs": [
    {
     "name": "stdout",
     "output_type": "stream",
     "text": [
      "Before blurring:\n"
     ]
    },
    {
     "data": {
      "image/png": "[encoded data removed]",
      "text/plain": [
       "<matplotlib.figure.Figure at 0x116517160>"
      ]
     },
     "metadata": {},
     "output_type": "display_data"
    },
    {
     "name": "stdout",
     "output_type": "stream",
     "text": [
      "After blurring:\n"
     ]
    },
    {
     "data": {
      "image/png": "[encoded data removed]",
      "text/plain": [
       "<matplotlib.figure.Figure at 0x1198455c0>"
      ]
     },
     "metadata": {},
     "output_type": "display_data"
    }
   ],
   "source": [
    "### STUDENT START ###\n",
    "\n",
    "# For given a pixel position(x,y) in an image matrix\n",
    "# calculate its blurred value. Note: surrounding pixels\n",
    "# have less weight\n",
    "def get_blur_value(image, x,y):\n",
    "    max_x = 2\n",
    "    if (x == 27):\n",
    "        max_x = 1\n",
    "            \n",
    "    max_y = 2\n",
    "    if (y == 27):\n",
    "        max_y = 1\n",
    "    sum = 0\n",
    "    for i in range(-1,max_x):\n",
    "        for j in range(-1,max_y):\n",
    "            if (i==0 and j==0):\n",
    "                sum += image[x+i,y+j]\n",
    "            else:\n",
    "                sum += image[x+i,y+j] * 0.65\n",
    "    return sum/(max_x * max_y)                \n",
    "\n",
    "# Given an image, make it blurred by finding a non-black pixel and blur its \n",
    "# surrounding pixels\n",
    "def blur_image(src_image):\n",
    "    blurred_image = src_image # np.array(src_image)\n",
    "    for i in range(len(blurred_image)):\n",
    "        for j in range(len(blurred_image)):\n",
    "            # Pick a bright enough pixel and then blur itself and its surrounding ones\n",
    "            if (blurred_image[i,j] > 0.5):\n",
    "                for x in range(-1,2):\n",
    "                    for y in range(-1,2):\n",
    "                        if (i+x < len(blurred_image) and \n",
    "                            j+y < len(blurred_image) and\n",
    "                            blurred_image[i+x,j+y] < 0.3):\n",
    "\n",
    "                            blurred_image[i+x,j+y] = get_blur_value(blurred_image,i+x,j+y) \n",
    "\n",
    "#########################\n",
    "def P6():\n",
    "    data = mini_train_data\n",
    "    labels = mini_train_labels\n",
    "    digit = np.reshape(data[1],(28,28))\n",
    "    print(\"Before blurring:\")\n",
    "    plt.imshow(digit, cmap='gray', interpolation='nearest')\n",
    "    plt.show()\n",
    "    digit2 = np.array(digit)\n",
    "    blur_image(digit2)\n",
    "    print(\"After blurring:\")\n",
    "    plt.imshow(digit2, cmap='gray', interpolation='nearest')\n",
    "    plt.show()\n",
    "    \n",
    "## STUDENT END ###\n",
    "\n",
    "P6()"
   ]
  },
  {
   "cell_type": "code",
   "execution_count": 24,
   "metadata": {
    "collapsed": false
   },
   "outputs": [
    {
     "name": "stdout",
     "output_type": "stream",
     "text": [
      "For k = 1, number of correct predictions: 0.98\n",
      "             precision    recall  f1-score   support\n",
      "\n",
      "        0.0       0.96      1.00      0.98        99\n",
      "        1.0       1.00      1.00      1.00       105\n",
      "        2.0       0.98      0.96      0.97       102\n",
      "        3.0       0.95      0.97      0.96        86\n",
      "        4.0       0.99      0.98      0.99       104\n",
      "        5.0       0.97      0.97      0.97        91\n",
      "        6.0       0.99      0.98      0.98        98\n",
      "        7.0       0.99      0.98      0.99       113\n",
      "        8.0       0.98      0.93      0.95        96\n",
      "        9.0       0.95      1.00      0.98       106\n",
      "\n",
      "avg / total       0.98      0.98      0.98      1000\n",
      "\n",
      "preprocess the training data but not the dev data\n",
      "blurring all images..\n",
      "(60000, 784)\n",
      "0\n",
      "10000\n",
      "20000\n",
      "30000\n",
      "40000\n",
      "50000\n",
      "evaluating..\n",
      "For k = 1, number of correct predictions: 0.96\n",
      "             precision    recall  f1-score   support\n",
      "\n",
      "        0.0       0.95      0.99      0.97        99\n",
      "        1.0       0.97      1.00      0.99       105\n",
      "        2.0       1.00      0.92      0.96       102\n",
      "        3.0       0.95      0.98      0.97        86\n",
      "        4.0       0.94      0.98      0.96       104\n",
      "        5.0       0.94      0.98      0.96        91\n",
      "        6.0       0.99      0.95      0.97        98\n",
      "        7.0       0.94      0.98      0.96       113\n",
      "        8.0       0.99      0.91      0.95        96\n",
      "        9.0       0.96      0.94      0.95       106\n",
      "\n",
      "avg / total       0.96      0.96      0.96      1000\n",
      "\n"
     ]
    }
   ],
   "source": [
    "# P6 part 2: I have to break P6 into these smaller parts because the execution for each part takes a long time\n",
    "# so I want to leave them alone when I am done with them\n",
    "def blur_all_images(data):\n",
    "    print(\"blurring all images..\")\n",
    "    print(data.shape)\n",
    "    for i in range(len(data)):\n",
    "        if (i %10000 == 0):\n",
    "            print(i)\n",
    "        digit = np.reshape(data[i],(28,28))\n",
    "        blur_image(digit)\n",
    "        data[i] =  np.reshape(digit, 784)\n",
    "    \n",
    "## update the previous P2\n",
    "def eval(k_values, test_data, test_labels, pred_data, pred_labels):\n",
    "    for k in k_values:\n",
    "        model = KNeighborsClassifier(k)\n",
    "        model.fit(test_data, test_labels)\n",
    "        predicted_labels = model.predict(pred_data)\n",
    "        correct = (predicted_labels == pred_labels)\n",
    "        print('For k = %d, number of correct predictions: %3.2f' %(k, (sum(correct)/pred_labels.size)))\n",
    "        if (k == 1):\n",
    "            print(classification_report(pred_labels, predicted_labels))\n",
    "\n",
    "eval([1], train_data, train_labels, dev_data, dev_labels)\n",
    "\n",
    "\n",
    "print(\"preprocess the training data but not the dev data\")\n",
    "train_data2 = np.array(train_data) # copy the data so we won't update directly\n",
    "blur_all_images(train_data2)\n",
    "\n",
    "print(\"evaluating..\")\n",
    "eval([1], train_data2, train_labels, dev_data, dev_labels)\n"
   ]
  },
  {
   "cell_type": "code",
   "execution_count": 25,
   "metadata": {
    "collapsed": false
   },
   "outputs": [
    {
     "name": "stdout",
     "output_type": "stream",
     "text": [
      "preprocess the dev data but not the training data\n",
      "blurring all images..\n",
      "(1000, 784)\n",
      "0\n",
      "For k = 1, number of correct predictions: 0.96\n",
      "             precision    recall  f1-score   support\n",
      "\n",
      "        0.0       0.96      1.00      0.98        99\n",
      "        1.0       0.97      1.00      0.99       105\n",
      "        2.0       0.98      0.96      0.97       102\n",
      "        3.0       0.93      0.92      0.92        86\n",
      "        4.0       0.97      0.96      0.97       104\n",
      "        5.0       0.99      0.91      0.95        91\n",
      "        6.0       0.98      0.98      0.98        98\n",
      "        7.0       0.97      0.96      0.97       113\n",
      "        8.0       0.92      0.96      0.94        96\n",
      "        9.0       0.93      0.94      0.94       106\n",
      "\n",
      "avg / total       0.96      0.96      0.96      1000\n",
      "\n"
     ]
    }
   ],
   "source": [
    "print(\"preprocess the dev data but not the training data\")\n",
    "dev_data2 = np.array(dev_data) # copy the data so we won't update directly\n",
    "blur_all_images(dev_data2)\n",
    "eval([1], train_data, train_labels, dev_data2, dev_labels)\n"
   ]
  },
  {
   "cell_type": "code",
   "execution_count": 26,
   "metadata": {
    "collapsed": false
   },
   "outputs": [
    {
     "name": "stdout",
     "output_type": "stream",
     "text": [
      "preprocess both training and dev data\n",
      "For k = 1, number of correct predictions: 0.97\n",
      "             precision    recall  f1-score   support\n",
      "\n",
      "        0.0       0.97      1.00      0.99        99\n",
      "        1.0       0.98      1.00      0.99       105\n",
      "        2.0       0.99      0.95      0.97       102\n",
      "        3.0       0.95      0.92      0.93        86\n",
      "        4.0       0.96      0.98      0.97       104\n",
      "        5.0       0.99      0.97      0.98        91\n",
      "        6.0       0.99      0.98      0.98        98\n",
      "        7.0       0.98      0.97      0.98       113\n",
      "        8.0       0.97      0.97      0.97        96\n",
      "        9.0       0.95      0.98      0.96       106\n",
      "\n",
      "avg / total       0.97      0.97      0.97      1000\n",
      "\n"
     ]
    }
   ],
   "source": [
    "print(\"preprocess both training and dev data\")\n",
    "eval([1], train_data2, train_labels, dev_data2, dev_labels)"
   ]
  },
  {
   "cell_type": "markdown",
   "metadata": {},
   "source": [
    "ANSWER: As you can see the results after bluring the larger dataset (training), the prediction precision went down from average of 98% to 96% (either of training and dev is blurred) and 97% (both are blurred) as expected"
   ]
  },
  {
   "cell_type": "markdown",
   "metadata": {},
   "source": [
    "(7) Fit a Naive Bayes classifier and report accuracy on the dev data. Remember that Naive Bayes estimates P(feature|label). While sklearn can handle real-valued features, let's start by mapping the pixel values to either 0 or 1. You can do this as a preprocessing step, or with the binarize argument. With binary-valued features, you can use BernoulliNB. Next try mapping the pixel values to 0, 1, or 2, representing white, grey, or black. This mapping requires MultinomialNB. Does the multi-class version improve the results? Why or why not?"
   ]
  },
  {
   "cell_type": "code",
   "execution_count": 27,
   "metadata": {
    "collapsed": false
   },
   "outputs": [
    {
     "name": "stdout",
     "output_type": "stream",
     "text": [
      "             precision    recall  f1-score   support\n",
      "\n",
      "        0.0       0.88      0.97      0.92        99\n",
      "        1.0       0.86      0.97      0.91       105\n",
      "        2.0       0.88      0.78      0.83       102\n",
      "        3.0       0.61      0.73      0.67        86\n",
      "        4.0       0.88      0.79      0.83       104\n",
      "        5.0       0.79      0.64      0.71        91\n",
      "        6.0       0.87      0.87      0.87        98\n",
      "        7.0       0.91      0.77      0.83       113\n",
      "        8.0       0.76      0.77      0.76        96\n",
      "        9.0       0.72      0.81      0.76       106\n",
      "\n",
      "avg / total       0.82      0.81      0.81      1000\n",
      "\n",
      "             precision    recall  f1-score   support\n",
      "\n",
      "        0.0       0.90      0.96      0.93        99\n",
      "        1.0       0.89      0.92      0.91       105\n",
      "        2.0       0.85      0.80      0.82       102\n",
      "        3.0       0.63      0.74      0.68        86\n",
      "        4.0       0.90      0.67      0.77       104\n",
      "        5.0       0.84      0.56      0.67        91\n",
      "        6.0       0.88      0.91      0.89        98\n",
      "        7.0       0.97      0.75      0.85       113\n",
      "        8.0       0.65      0.78      0.71        96\n",
      "        9.0       0.62      0.84      0.71       106\n",
      "\n",
      "avg / total       0.82      0.80      0.80      1000\n",
      "\n"
     ]
    }
   ],
   "source": [
    "def P7():\n",
    "\n",
    "### STUDENT START ###\n",
    "    data = np.array(mini_train_data) # copy the data so we won't update directly\n",
    "    labels = mini_train_labels\n",
    "    #for i in range(len(data)):\n",
    "    #    data[i][data[i] > 0] = 1\n",
    "\n",
    "    model = BernoulliNB(binarize=0.05)\n",
    "    model.fit(data, labels)\n",
    "    predicted_labels = model.predict(dev_data)\n",
    "    correct = (predicted_labels == dev_labels)\n",
    "    print(classification_report(dev_labels, predicted_labels))\n",
    "\n",
    "    # Next try mapping the pixel values to 0, 1, or 2, representing white, grey, or black.\n",
    "    for i in range(len(data)):\n",
    "        data[i][data[i] >= 0.6 ] = 2\n",
    "        data[i][(data[i] > 0.3) & (data[i] < 0.6)] = 1\n",
    "        data[i][data[i] <= 0.3 ] = 0\n",
    "\n",
    "    model = MultinomialNB()\n",
    "    model.fit(data, labels)\n",
    "    predicted_labels = model.predict(dev_data)\n",
    "    correct = (predicted_labels == dev_labels)\n",
    "    print(classification_report(dev_labels, predicted_labels))\n",
    "    \n",
    "### STUDENT END ###\n",
    "\n",
    "P7()"
   ]
  },
  {
   "cell_type": "markdown",
   "metadata": {},
   "source": [
    "ANSWER: Comparing precision results from Bernoulli and MultinomialNB, I am seeing that the precision was better for some (0,1,4, 7) but worse of the rest"
   ]
  },
  {
   "cell_type": "markdown",
   "metadata": {},
   "source": [
    "(8) Use GridSearchCV to perform a search over values of alpha (the Laplace smoothing parameter) in a Bernoulli NB model. What is the best value for alpha? What is the accuracy when alpha=0? Is this what you'd expect?\n",
    "\n",
    "- Note that GridSearchCV partitions the training data so the results will be a bit different than if you used the dev data for evaluation."
   ]
  },
  {
   "cell_type": "code",
   "execution_count": 28,
   "metadata": {
    "collapsed": false
   },
   "outputs": [
    {
     "name": "stderr",
     "output_type": "stream",
     "text": [
      "/Users/thongbui/anaconda3/lib/python3.5/site-packages/sklearn/naive_bayes.py:766: RuntimeWarning: divide by zero encountered in log\n",
      "  self.feature_log_prob_ = (np.log(smoothed_fc)\n",
      "/Users/thongbui/anaconda3/lib/python3.5/site-packages/sklearn/metrics/classification.py:1203: DeprecationWarning: The default `weighted` averaging is deprecated, and from version 0.18, use of precision, recall or F-score with multiclass or multilabel data or pos_label=None will result in an exception. Please set an explicit value for `average`, one of (None, 'micro', 'macro', 'weighted', 'samples'). In cross validation use, for instance, scoring=\"f1_weighted\" instead of scoring=\"f1\".\n",
      "  sample_weight=sample_weight)\n",
      "/Users/thongbui/anaconda3/lib/python3.5/site-packages/sklearn/metrics/classification.py:1074: UndefinedMetricWarning: Precision is ill-defined and being set to 0.0 in labels with no predicted samples.\n",
      "  'precision', 'predicted', average, warn_for)\n",
      "/Users/thongbui/anaconda3/lib/python3.5/site-packages/sklearn/naive_bayes.py:766: RuntimeWarning: divide by zero encountered in log\n",
      "  self.feature_log_prob_ = (np.log(smoothed_fc)\n",
      "/Users/thongbui/anaconda3/lib/python3.5/site-packages/sklearn/naive_bayes.py:785: RuntimeWarning: divide by zero encountered in log\n",
      "  neg_prob = np.log(1 - np.exp(self.feature_log_prob_))\n",
      "/Users/thongbui/anaconda3/lib/python3.5/site-packages/sklearn/metrics/classification.py:1203: DeprecationWarning: The default `weighted` averaging is deprecated, and from version 0.18, use of precision, recall or F-score with multiclass or multilabel data or pos_label=None will result in an exception. Please set an explicit value for `average`, one of (None, 'micro', 'macro', 'weighted', 'samples'). In cross validation use, for instance, scoring=\"f1_weighted\" instead of scoring=\"f1\".\n",
      "  sample_weight=sample_weight)\n",
      "/Users/thongbui/anaconda3/lib/python3.5/site-packages/sklearn/metrics/classification.py:1074: UndefinedMetricWarning: Precision is ill-defined and being set to 0.0 in labels with no predicted samples.\n",
      "  'precision', 'predicted', average, warn_for)\n",
      "/Users/thongbui/anaconda3/lib/python3.5/site-packages/sklearn/naive_bayes.py:766: RuntimeWarning: divide by zero encountered in log\n",
      "  self.feature_log_prob_ = (np.log(smoothed_fc)\n",
      "/Users/thongbui/anaconda3/lib/python3.5/site-packages/sklearn/metrics/classification.py:1203: DeprecationWarning: The default `weighted` averaging is deprecated, and from version 0.18, use of precision, recall or F-score with multiclass or multilabel data or pos_label=None will result in an exception. Please set an explicit value for `average`, one of (None, 'micro', 'macro', 'weighted', 'samples'). In cross validation use, for instance, scoring=\"f1_weighted\" instead of scoring=\"f1\".\n",
      "  sample_weight=sample_weight)\n",
      "/Users/thongbui/anaconda3/lib/python3.5/site-packages/sklearn/metrics/classification.py:1074: UndefinedMetricWarning: Precision is ill-defined and being set to 0.0 in labels with no predicted samples.\n",
      "  'precision', 'predicted', average, warn_for)\n",
      "/Users/thongbui/anaconda3/lib/python3.5/site-packages/sklearn/metrics/classification.py:1203: DeprecationWarning: The default `weighted` averaging is deprecated, and from version 0.18, use of precision, recall or F-score with multiclass or multilabel data or pos_label=None will result in an exception. Please set an explicit value for `average`, one of (None, 'micro', 'macro', 'weighted', 'samples'). In cross validation use, for instance, scoring=\"f1_weighted\" instead of scoring=\"f1\".\n",
      "  sample_weight=sample_weight)\n",
      "/Users/thongbui/anaconda3/lib/python3.5/site-packages/sklearn/metrics/classification.py:1203: DeprecationWarning: The default `weighted` averaging is deprecated, and from version 0.18, use of precision, recall or F-score with multiclass or multilabel data or pos_label=None will result in an exception. Please set an explicit value for `average`, one of (None, 'micro', 'macro', 'weighted', 'samples'). In cross validation use, for instance, scoring=\"f1_weighted\" instead of scoring=\"f1\".\n",
      "  sample_weight=sample_weight)\n",
      "/Users/thongbui/anaconda3/lib/python3.5/site-packages/sklearn/metrics/classification.py:1203: DeprecationWarning: The default `weighted` averaging is deprecated, and from version 0.18, use of precision, recall or F-score with multiclass or multilabel data or pos_label=None will result in an exception. Please set an explicit value for `average`, one of (None, 'micro', 'macro', 'weighted', 'samples'). In cross validation use, for instance, scoring=\"f1_weighted\" instead of scoring=\"f1\".\n",
      "  sample_weight=sample_weight)\n",
      "/Users/thongbui/anaconda3/lib/python3.5/site-packages/sklearn/metrics/classification.py:1203: DeprecationWarning: The default `weighted` averaging is deprecated, and from version 0.18, use of precision, recall or F-score with multiclass or multilabel data or pos_label=None will result in an exception. Please set an explicit value for `average`, one of (None, 'micro', 'macro', 'weighted', 'samples'). In cross validation use, for instance, scoring=\"f1_weighted\" instead of scoring=\"f1\".\n",
      "  sample_weight=sample_weight)\n",
      "/Users/thongbui/anaconda3/lib/python3.5/site-packages/sklearn/metrics/classification.py:1203: DeprecationWarning: The default `weighted` averaging is deprecated, and from version 0.18, use of precision, recall or F-score with multiclass or multilabel data or pos_label=None will result in an exception. Please set an explicit value for `average`, one of (None, 'micro', 'macro', 'weighted', 'samples'). In cross validation use, for instance, scoring=\"f1_weighted\" instead of scoring=\"f1\".\n",
      "  sample_weight=sample_weight)\n",
      "/Users/thongbui/anaconda3/lib/python3.5/site-packages/sklearn/metrics/classification.py:1203: DeprecationWarning: The default `weighted` averaging is deprecated, and from version 0.18, use of precision, recall or F-score with multiclass or multilabel data or pos_label=None will result in an exception. Please set an explicit value for `average`, one of (None, 'micro', 'macro', 'weighted', 'samples'). In cross validation use, for instance, scoring=\"f1_weighted\" instead of scoring=\"f1\".\n",
      "  sample_weight=sample_weight)\n",
      "/Users/thongbui/anaconda3/lib/python3.5/site-packages/sklearn/metrics/classification.py:1203: DeprecationWarning: The default `weighted` averaging is deprecated, and from version 0.18, use of precision, recall or F-score with multiclass or multilabel data or pos_label=None will result in an exception. Please set an explicit value for `average`, one of (None, 'micro', 'macro', 'weighted', 'samples'). In cross validation use, for instance, scoring=\"f1_weighted\" instead of scoring=\"f1\".\n",
      "  sample_weight=sample_weight)\n",
      "/Users/thongbui/anaconda3/lib/python3.5/site-packages/sklearn/metrics/classification.py:1203: DeprecationWarning: The default `weighted` averaging is deprecated, and from version 0.18, use of precision, recall or F-score with multiclass or multilabel data or pos_label=None will result in an exception. Please set an explicit value for `average`, one of (None, 'micro', 'macro', 'weighted', 'samples'). In cross validation use, for instance, scoring=\"f1_weighted\" instead of scoring=\"f1\".\n",
      "  sample_weight=sample_weight)\n",
      "/Users/thongbui/anaconda3/lib/python3.5/site-packages/sklearn/metrics/classification.py:1203: DeprecationWarning: The default `weighted` averaging is deprecated, and from version 0.18, use of precision, recall or F-score with multiclass or multilabel data or pos_label=None will result in an exception. Please set an explicit value for `average`, one of (None, 'micro', 'macro', 'weighted', 'samples'). In cross validation use, for instance, scoring=\"f1_weighted\" instead of scoring=\"f1\".\n",
      "  sample_weight=sample_weight)\n",
      "/Users/thongbui/anaconda3/lib/python3.5/site-packages/sklearn/metrics/classification.py:1203: DeprecationWarning: The default `weighted` averaging is deprecated, and from version 0.18, use of precision, recall or F-score with multiclass or multilabel data or pos_label=None will result in an exception. Please set an explicit value for `average`, one of (None, 'micro', 'macro', 'weighted', 'samples'). In cross validation use, for instance, scoring=\"f1_weighted\" instead of scoring=\"f1\".\n",
      "  sample_weight=sample_weight)\n",
      "/Users/thongbui/anaconda3/lib/python3.5/site-packages/sklearn/metrics/classification.py:1203: DeprecationWarning: The default `weighted` averaging is deprecated, and from version 0.18, use of precision, recall or F-score with multiclass or multilabel data or pos_label=None will result in an exception. Please set an explicit value for `average`, one of (None, 'micro', 'macro', 'weighted', 'samples'). In cross validation use, for instance, scoring=\"f1_weighted\" instead of scoring=\"f1\".\n",
      "  sample_weight=sample_weight)\n",
      "/Users/thongbui/anaconda3/lib/python3.5/site-packages/sklearn/metrics/classification.py:1203: DeprecationWarning: The default `weighted` averaging is deprecated, and from version 0.18, use of precision, recall or F-score with multiclass or multilabel data or pos_label=None will result in an exception. Please set an explicit value for `average`, one of (None, 'micro', 'macro', 'weighted', 'samples'). In cross validation use, for instance, scoring=\"f1_weighted\" instead of scoring=\"f1\".\n",
      "  sample_weight=sample_weight)\n",
      "/Users/thongbui/anaconda3/lib/python3.5/site-packages/sklearn/metrics/classification.py:1203: DeprecationWarning: The default `weighted` averaging is deprecated, and from version 0.18, use of precision, recall or F-score with multiclass or multilabel data or pos_label=None will result in an exception. Please set an explicit value for `average`, one of (None, 'micro', 'macro', 'weighted', 'samples'). In cross validation use, for instance, scoring=\"f1_weighted\" instead of scoring=\"f1\".\n",
      "  sample_weight=sample_weight)\n",
      "/Users/thongbui/anaconda3/lib/python3.5/site-packages/sklearn/metrics/classification.py:1203: DeprecationWarning: The default `weighted` averaging is deprecated, and from version 0.18, use of precision, recall or F-score with multiclass or multilabel data or pos_label=None will result in an exception. Please set an explicit value for `average`, one of (None, 'micro', 'macro', 'weighted', 'samples'). In cross validation use, for instance, scoring=\"f1_weighted\" instead of scoring=\"f1\".\n",
      "  sample_weight=sample_weight)\n",
      "/Users/thongbui/anaconda3/lib/python3.5/site-packages/sklearn/metrics/classification.py:1203: DeprecationWarning: The default `weighted` averaging is deprecated, and from version 0.18, use of precision, recall or F-score with multiclass or multilabel data or pos_label=None will result in an exception. Please set an explicit value for `average`, one of (None, 'micro', 'macro', 'weighted', 'samples'). In cross validation use, for instance, scoring=\"f1_weighted\" instead of scoring=\"f1\".\n",
      "  sample_weight=sample_weight)\n",
      "/Users/thongbui/anaconda3/lib/python3.5/site-packages/sklearn/metrics/classification.py:1203: DeprecationWarning: The default `weighted` averaging is deprecated, and from version 0.18, use of precision, recall or F-score with multiclass or multilabel data or pos_label=None will result in an exception. Please set an explicit value for `average`, one of (None, 'micro', 'macro', 'weighted', 'samples'). In cross validation use, for instance, scoring=\"f1_weighted\" instead of scoring=\"f1\".\n",
      "  sample_weight=sample_weight)\n",
      "/Users/thongbui/anaconda3/lib/python3.5/site-packages/sklearn/metrics/classification.py:1203: DeprecationWarning: The default `weighted` averaging is deprecated, and from version 0.18, use of precision, recall or F-score with multiclass or multilabel data or pos_label=None will result in an exception. Please set an explicit value for `average`, one of (None, 'micro', 'macro', 'weighted', 'samples'). In cross validation use, for instance, scoring=\"f1_weighted\" instead of scoring=\"f1\".\n",
      "  sample_weight=sample_weight)\n",
      "/Users/thongbui/anaconda3/lib/python3.5/site-packages/sklearn/metrics/classification.py:1203: DeprecationWarning: The default `weighted` averaging is deprecated, and from version 0.18, use of precision, recall or F-score with multiclass or multilabel data or pos_label=None will result in an exception. Please set an explicit value for `average`, one of (None, 'micro', 'macro', 'weighted', 'samples'). In cross validation use, for instance, scoring=\"f1_weighted\" instead of scoring=\"f1\".\n",
      "  sample_weight=sample_weight)\n",
      "/Users/thongbui/anaconda3/lib/python3.5/site-packages/sklearn/metrics/classification.py:1203: DeprecationWarning: The default `weighted` averaging is deprecated, and from version 0.18, use of precision, recall or F-score with multiclass or multilabel data or pos_label=None will result in an exception. Please set an explicit value for `average`, one of (None, 'micro', 'macro', 'weighted', 'samples'). In cross validation use, for instance, scoring=\"f1_weighted\" instead of scoring=\"f1\".\n",
      "  sample_weight=sample_weight)\n",
      "/Users/thongbui/anaconda3/lib/python3.5/site-packages/sklearn/metrics/classification.py:1203: DeprecationWarning: The default `weighted` averaging is deprecated, and from version 0.18, use of precision, recall or F-score with multiclass or multilabel data or pos_label=None will result in an exception. Please set an explicit value for `average`, one of (None, 'micro', 'macro', 'weighted', 'samples'). In cross validation use, for instance, scoring=\"f1_weighted\" instead of scoring=\"f1\".\n",
      "  sample_weight=sample_weight)\n",
      "/Users/thongbui/anaconda3/lib/python3.5/site-packages/sklearn/metrics/classification.py:1203: DeprecationWarning: The default `weighted` averaging is deprecated, and from version 0.18, use of precision, recall or F-score with multiclass or multilabel data or pos_label=None will result in an exception. Please set an explicit value for `average`, one of (None, 'micro', 'macro', 'weighted', 'samples'). In cross validation use, for instance, scoring=\"f1_weighted\" instead of scoring=\"f1\".\n",
      "  sample_weight=sample_weight)\n",
      "/Users/thongbui/anaconda3/lib/python3.5/site-packages/sklearn/metrics/classification.py:1203: DeprecationWarning: The default `weighted` averaging is deprecated, and from version 0.18, use of precision, recall or F-score with multiclass or multilabel data or pos_label=None will result in an exception. Please set an explicit value for `average`, one of (None, 'micro', 'macro', 'weighted', 'samples'). In cross validation use, for instance, scoring=\"f1_weighted\" instead of scoring=\"f1\".\n",
      "  sample_weight=sample_weight)\n",
      "/Users/thongbui/anaconda3/lib/python3.5/site-packages/sklearn/metrics/classification.py:1203: DeprecationWarning: The default `weighted` averaging is deprecated, and from version 0.18, use of precision, recall or F-score with multiclass or multilabel data or pos_label=None will result in an exception. Please set an explicit value for `average`, one of (None, 'micro', 'macro', 'weighted', 'samples'). In cross validation use, for instance, scoring=\"f1_weighted\" instead of scoring=\"f1\".\n",
      "  sample_weight=sample_weight)\n"
     ]
    },
    {
     "name": "stdout",
     "output_type": "stream",
     "text": [
      "[mean: 0.00846, std: 0.00015, params: {'alpha': 0.0}, mean: 0.82606, std: 0.01988, params: {'alpha': 0.0001}, mean: 0.82859, std: 0.01827, params: {'alpha': 0.001}, mean: 0.83000, std: 0.01676, params: {'alpha': 0.01}, mean: 0.82260, std: 0.01816, params: {'alpha': 0.1}, mean: 0.80850, std: 0.01208, params: {'alpha': 0.5}, mean: 0.80344, std: 0.01158, params: {'alpha': 1.0}, mean: 0.79391, std: 0.01813, params: {'alpha': 2.0}, mean: 0.78077, std: 0.02174, params: {'alpha': 10.0}]\n"
     ]
    },
    {
     "name": "stderr",
     "output_type": "stream",
     "text": [
      "/Users/thongbui/anaconda3/lib/python3.5/site-packages/sklearn/metrics/classification.py:1203: DeprecationWarning: The default `weighted` averaging is deprecated, and from version 0.18, use of precision, recall or F-score with multiclass or multilabel data or pos_label=None will result in an exception. Please set an explicit value for `average`, one of (None, 'micro', 'macro', 'weighted', 'samples'). In cross validation use, for instance, scoring=\"f1_weighted\" instead of scoring=\"f1\".\n",
      "  sample_weight=sample_weight)\n"
     ]
    }
   ],
   "source": [
    "def P8(alphas):\n",
    "\n",
    "### STUDENT START ###\n",
    "    \n",
    "    gscv = GridSearchCV(BernoulliNB(binarize=0.5), alphas , scoring='precision')\n",
    "    gscv.fit(mini_train_data, mini_train_labels)\n",
    "    print(gscv.grid_scores_) #.best_scores_)\n",
    "\n",
    "    return gscv\n",
    "### STUDENT END ###\n",
    "\n",
    "alphas = {'alpha': [0.0, 0.0001, 0.001, 0.01, 0.1, 0.5, 1.0, 2.0, 10.0]}\n",
    "nb = P8(alphas)"
   ]
  },
  {
   "cell_type": "code",
   "execution_count": 29,
   "metadata": {
    "collapsed": false
   },
   "outputs": [
    {
     "name": "stdout",
     "output_type": "stream",
     "text": [
      "{'alpha': 0.01}\n"
     ]
    }
   ],
   "source": [
    "print(nb.best_params_)"
   ]
  },
  {
   "cell_type": "markdown",
   "metadata": {},
   "source": [
    "ANSWER: best value for alpha is 0.01, accurancy= 0.00846 when alpha=0"
   ]
  },
  {
   "cell_type": "markdown",
   "metadata": {},
   "source": [
    "(9) Try training a model using GuassianNB, which is intended for real-valued features, and evaluate on the dev data. You'll notice that it doesn't work so well. Try to diagnose the problem. You should be able to find a simple fix that returns the accuracy to around the same rate as BernoulliNB. Explain your solution.\n",
    "\n",
    "Hint: examine the parameters estimated by the fit() method, theta\\_ and sigma\\_."
   ]
  },
  {
   "cell_type": "code",
   "execution_count": 30,
   "metadata": {
    "collapsed": false
   },
   "outputs": [
    {
     "name": "stdout",
     "output_type": "stream",
     "text": [
      "             precision    recall  f1-score   support\n",
      "\n",
      "        0.0       0.75      0.84      0.79        99\n",
      "        1.0       0.82      0.89      0.85       105\n",
      "        2.0       0.62      0.39      0.48       102\n",
      "        3.0       0.62      0.45      0.52        86\n",
      "        4.0       0.80      0.39      0.53       104\n",
      "        5.0       0.52      0.36      0.43        91\n",
      "        6.0       0.69      0.88      0.77        98\n",
      "        7.0       0.84      0.48      0.61       113\n",
      "        8.0       0.41      0.61      0.49        96\n",
      "        9.0       0.47      0.88      0.61       106\n",
      "\n",
      "avg / total       0.66      0.62      0.61      1000\n",
      "\n",
      "tune sigma_, theta_ to improve the precisions\n",
      "             precision    recall  f1-score   support\n",
      "\n",
      "        0.0       0.95      0.90      0.92        99\n",
      "        1.0       0.99      0.83      0.90       105\n",
      "        2.0       0.76      0.90      0.83       102\n",
      "        3.0       0.68      0.76      0.71        86\n",
      "        4.0       0.80      0.87      0.83       104\n",
      "        5.0       0.55      0.81      0.65        91\n",
      "        6.0       0.95      0.83      0.89        98\n",
      "        7.0       0.94      0.78      0.85       113\n",
      "        8.0       0.78      0.68      0.73        96\n",
      "        9.0       0.84      0.73      0.78       106\n",
      "\n",
      "avg / total       0.83      0.81      0.81      1000\n",
      "\n"
     ]
    }
   ],
   "source": [
    "def P9():\n",
    "\n",
    "### STUDENT END ###\n",
    "    data = mini_train_data\n",
    "    labels = mini_train_labels\n",
    "\n",
    "    clf = GaussianNB()\n",
    "    clf.fit(data, labels)\n",
    "\n",
    "    predicted_labels = clf.predict(dev_data)\n",
    "    print(classification_report(dev_labels, predicted_labels))\n",
    "    \n",
    "    # Here I am trying to tune sigma_, theta_ to improve the precisions  \n",
    "    print(\"tune sigma_, theta_ to improve the precisions\")\n",
    "    for i in range(len(clf.sigma_)):\n",
    "        clf.sigma_[i] += 0.01\n",
    "    for i in range(len(clf.theta_)):\n",
    "        clf.theta_[i] += 0.2\n",
    "    predicted_labels = clf.predict(dev_data)\n",
    "    print(classification_report(dev_labels, predicted_labels))\n",
    "\n",
    "    return clf\n",
    "### STUDENT END ###\n",
    "\n",
    "gnb = P9()"
   ]
  },
  {
   "cell_type": "markdown",
   "metadata": {},
   "source": [
    "ANSWER: By adding 0.01 to sigma_ and 0.2 to theta_, I was able to increase the accuracy of the prediction from 66% avg to 83%"
   ]
  },
  {
   "cell_type": "markdown",
   "metadata": {},
   "source": [
    "(10) Because Naive Bayes is a generative model, we can use the trained model to generate digits. Train a BernoulliNB model and then generate a 10x20 grid with 20 examples of each digit. Because you're using a Bernoulli model, each pixel output will be either 0 or 1. How do the generated digits compare to the training digits?\n",
    "\n",
    "- You can use np.random.rand() to generate random numbers from a uniform distribution\n",
    "- The estimated probability of each pixel is stored in feature\\_log\\_prob\\_. You'll need to use np.exp() to convert a log probability back to a probability."
   ]
  },
  {
   "cell_type": "code",
   "execution_count": 31,
   "metadata": {
    "collapsed": false
   },
   "outputs": [
    {
     "data": {
      "image/png": "[encoded data removed]",
      "text/plain": [
       "<matplotlib.figure.Figure at 0x117a70278>"
      ]
     },
     "metadata": {},
     "output_type": "display_data"
    }
   ],
   "source": [
    "def P10(num_examples):\n",
    "\n",
    "### STUDENT START ###\n",
    "    data = np.array(mini_train_data) # copy the data so we won't update directly\n",
    "    labels = mini_train_labels\n",
    "\n",
    "    model = BernoulliNB(binarize=0.00001)\n",
    "    model.fit(data, labels)\n",
    "        \n",
    "    # The estimated probability of each pixel is stored in feature_log_prob_. \n",
    "    # use np.exp() to convert a log probability back to a probability.\n",
    "    pixel_prob = np.exp(model.feature_log_prob_)\n",
    "\n",
    "    # generate a 10x20 grid with 20 examples of each digit, each pixel output will be either 0 or 1\n",
    "    grid = np.zeros((10,20), dtype='int32')\n",
    "    for i in range(len(grid)):\n",
    "        grid[i] = i\n",
    "    \n",
    "    f, axarr = plt.subplots(10,20)\n",
    "\n",
    "    # compare with the probablity you generate from the bernouliNB,\n",
    "    # if the number in the matrix is less than the probabilty , print 1, other wise print 0    \n",
    "    for i in range(len(grid)):\n",
    "        for j in range(len(grid[i])):\n",
    "            # generate a matrix with np.random.rand(28,28)\n",
    "            matrix = np.random.rand(28*28)\n",
    "            image = np.zeros(28*28)\n",
    "            number = grid[i][j]\n",
    "            for k in range(len(pixel_prob[number])):\n",
    "                if (pixel_prob[number][k] < matrix[k]):\n",
    "                    image[k] = 0\n",
    "                else:\n",
    "                    image[k] = 1\n",
    "            \n",
    "            digit = np.reshape(image,(28,28))\n",
    "            axarr[i,j].axis('off')\n",
    "            axarr[i,j].imshow(digit, cmap='gray', interpolation='nearest')\n",
    "                    \n",
    "    plt.show()\n",
    "\n",
    "### STUDENT END ###\n",
    "\n",
    "P10(20)"
   ]
  },
  {
   "cell_type": "markdown",
   "metadata": {},
   "source": [
    "ANSWER: The generated digits are a lot more blurry, grainy comparing to the original ones"
   ]
  },
  {
   "cell_type": "markdown",
   "metadata": {},
   "source": [
    "(11) Remember that a strongly calibrated classifier is rougly 90% accurate when the posterior probability of the predicted class is 0.9. A weakly calibrated classifier is more accurate when the posterior is 90% than when it is 80%. A poorly calibrated classifier has no positive correlation between posterior and accuracy.\n",
    "\n",
    "Train a BernoulliNB model with a reasonable alpha value. For each posterior bucket (think of a bin in a histogram), you want to estimate the classifier's accuracy. So for each prediction, find the bucket the maximum posterior belongs to and update the \"correct\" and \"total\" counters.\n",
    "\n",
    "How would you characterize the calibration for the Naive Bayes model?"
   ]
  },
  {
   "cell_type": "code",
   "execution_count": 32,
   "metadata": {
    "collapsed": false
   },
   "outputs": [
    {
     "name": "stdout",
     "output_type": "stream",
     "text": [
      "p(pred) <= 0.5000000000000    total =   2    accuracy = 0.000\n",
      "p(pred) <= 0.9000000000000    total =  31    accuracy = 0.387\n",
      "p(pred) <= 0.9990000000000    total =  71    accuracy = 0.493\n",
      "p(pred) <= 0.9999900000000    total =  53    accuracy = 0.434\n",
      "p(pred) <= 0.9999999000000    total =  64    accuracy = 0.609\n",
      "p(pred) <= 0.9999999990000    total =  46    accuracy = 0.543\n",
      "p(pred) <= 0.9999999999900    total =  52    accuracy = 0.808\n",
      "p(pred) <= 0.9999999999999    total =  49    accuracy = 0.796\n",
      "p(pred) <= 1.0000000000000    total = 632    accuracy = 0.951\n"
     ]
    }
   ],
   "source": [
    "def P11(buckets, correct, total):\n",
    "    \n",
    "### STUDENT START ###\n",
    "    data = mini_train_data\n",
    "    labels = mini_train_labels\n",
    "\n",
    "    clf = BernoulliNB(alpha=0.1)\n",
    "    clf.fit(data, labels)\n",
    "    predicted_labels = clf.predict(dev_data)\n",
    "    prob = clf.predict_proba(dev_data)\n",
    "    \n",
    "    for i in range(len(predicted_labels)):\n",
    "        max_prob = max(prob[i])\n",
    "        for j in range(len(buckets)):\n",
    "            if (max_prob <= buckets[j]):\n",
    "                total[j] += 1\n",
    "                if (predicted_labels[i] == dev_labels[i]):\n",
    "                    correct[j] += 1\n",
    "                break\n",
    "### STUDENT END ###\n",
    "\n",
    "buckets = [0.5, 0.9, 0.999, 0.99999, 0.9999999, 0.999999999, 0.99999999999, 0.9999999999999, 1.0]\n",
    "correct = [0 for i in buckets]\n",
    "total = [0 for i in buckets]\n",
    "\n",
    "P11(buckets, correct, total)\n",
    "\n",
    "for i in range(len(buckets)):\n",
    "    accuracy = 0.0\n",
    "    if (total[i] > 0): accuracy = correct[i] / total[i]\n",
    "    print('p(pred) <= %.13f    total = %3d    accuracy = %.3f' %(buckets[i], total[i], accuracy))"
   ]
  },
  {
   "cell_type": "markdown",
   "metadata": {},
   "source": [
    "ANSWER: Using alpha = 0.1, we are getting posterior probablity 99.98% (9998 out 1000 samples) with p(pred) >= 0.9. So I would say this calibration for this BernoulliNB model is very strong"
   ]
  },
  {
   "cell_type": "markdown",
   "metadata": {},
   "source": [
    "(12) EXTRA CREDIT\n",
    "\n",
    "Try designing extra features to see if you can improve the performance of Naive Bayes on the dev set. Here are a few ideas to get you started:\n",
    "- Try summing the pixel values in each row and each column.\n",
    "- Try counting the number of enclosed regions; 8 usually has 2 enclosed regions, 9 usually has 1, and 7 usually has 0.\n",
    "\n",
    "Make sure you comment your code well!"
   ]
  },
  {
   "cell_type": "code",
   "execution_count": 18,
   "metadata": {
    "collapsed": false
   },
   "outputs": [],
   "source": [
    "#def P12():\n",
    "\n",
    "### STUDENT START ###\n",
    "\n",
    "\n",
    "### STUDENT END ###\n",
    "\n",
    "#P12()"
   ]
  }
 ],
 "metadata": {
  "anaconda-cloud": {},
  "kernelspec": {
   "display_name": "Python 2",
   "language": "python",
   "name": "python2"
  },
  "language_info": {
   "codemirror_mode": {
    "name": "ipython",
    "version": 2
   },
   "file_extension": ".py",
   "mimetype": "text/x-python",
   "name": "python",
   "nbconvert_exporter": "python",
   "pygments_lexer": "ipython2",
   "version": "2.7.13"
  }
 },
 "nbformat": 4,
 "nbformat_minor": 0
}
